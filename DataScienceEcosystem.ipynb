{
 "cells": [
  {
   "cell_type": "markdown",
   "id": "3cc0d129-eeea-4fea-a754-b8fd8356b795",
   "metadata": {},
   "source": [
    "# Data Science Tools and Ecosystem"
   ]
  },
  {
   "cell_type": "markdown",
   "id": "5347b996-3209-4fc5-9a0d-d380255482fa",
   "metadata": {},
   "source": [
    "# In this notebook, Data Science Tools and Ecosystem are summarized."
   ]
  },
  {
   "cell_type": "markdown",
   "id": "34edc970-d8f9-4840-8e03-a3c74e071576",
   "metadata": {
    "scrolled": true
   },
   "source": [
    "**Objectives:**\n",
    "- List popular languages for Data Science\n",
    "- Commonly Used Libraries used in Data Science\n",
    "- Data Science Tools\n",
    "- Arithmetic Expressions in Python"
   ]
  },
  {
   "cell_type": "markdown",
   "id": "77e159b1-238d-4d18-8bef-fb219c30f69b",
   "metadata": {},
   "source": [
    "# Some of the popular languages that Data Scientists use are:\n",
    "1. Python\n",
    "2. R\n",
    "3. SQL"
   ]
  },
  {
   "cell_type": "markdown",
   "id": "61f9f789-24d9-45ee-895f-2e15b2e563c5",
   "metadata": {},
   "source": [
    "# Some of the commonly used libraries used by Data Scientists include:\n",
    "1. NumPy\n",
    "2. Panda\n",
    "3. Matplotlib\n",
    "4. Seaborn\n",
    "5. Plotly\n",
    "6. Scikit-Learn\n",
    "7. TensorFlow"
   ]
  },
  {
   "cell_type": "markdown",
   "id": "b45b372b-775b-4491-b3e0-7039a874d86e",
   "metadata": {},
   "source": [
    "|Data Science Tools|\n",
    "|------------------|\n",
    "|Jupyter Notebooks|\n",
    "|RStudio|\n",
    "|Apache Spark|"
   ]
  },
  {
   "cell_type": "markdown",
   "id": "68a49645-c29a-423b-a808-361523fb6b4d",
   "metadata": {},
   "source": [
    "### Below are a few examples of evaluating arithmetic expressions in Python:"
   ]
  },
  {
   "cell_type": "markdown",
   "id": "75fbea2c-6cf2-4bcb-aa17-b9dd8b9e8a5f",
   "metadata": {},
   "source": [
    "This a simple arithmetic expression to mutiply then add integers"
   ]
  },
  {
   "cell_type": "code",
   "execution_count": 1,
   "id": "132edd8b-80ab-4c6f-9498-6e300e2e8702",
   "metadata": {
    "jupyter": {
     "source_hidden": true
    }
   },
   "outputs": [
    {
     "data": {
      "text/plain": [
       "17"
      ]
     },
     "execution_count": 1,
     "metadata": {},
     "output_type": "execute_result"
    }
   ],
   "source": [
    "(3*4)+5"
   ]
  },
  {
   "cell_type": "markdown",
   "id": "67cc311f-5c09-4e3d-9fb3-7784d2890462",
   "metadata": {},
   "source": [
    " This will convert 200 minutes to hours by diving by 60"
   ]
  },
  {
   "cell_type": "code",
   "execution_count": 2,
   "id": "655f04ff-091f-4e47-a74f-3f65e2e5748a",
   "metadata": {},
   "outputs": [
    {
     "data": {
      "text/plain": [
       "3.3333333333333335"
      ]
     },
     "execution_count": 2,
     "metadata": {},
     "output_type": "execute_result"
    }
   ],
   "source": [
    "200/60"
   ]
  },
  {
   "cell_type": "markdown",
   "id": "22f49930-9dad-4c28-8ce3-0ed10a7be351",
   "metadata": {},
   "source": [
    "## Author\n",
    "Md. Shadat Amin Chowdhury"
   ]
  }
 ],
 "metadata": {
  "kernelspec": {
   "display_name": "Python 3 (ipykernel)",
   "language": "python",
   "name": "python3"
  },
  "language_info": {
   "codemirror_mode": {
    "name": "ipython",
    "version": 3
   },
   "file_extension": ".py",
   "mimetype": "text/x-python",
   "name": "python",
   "nbconvert_exporter": "python",
   "pygments_lexer": "ipython3",
   "version": "3.12.8"
  }
 },
 "nbformat": 4,
 "nbformat_minor": 5
}
